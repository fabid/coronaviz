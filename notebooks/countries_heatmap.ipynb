{
 "cells": [
  {
   "cell_type": "markdown",
   "metadata": {},
   "source": [
    "Get data"
   ]
  },
  {
   "cell_type": "code",
   "execution_count": null,
   "metadata": {},
   "outputs": [],
   "source": [
    "import pandas as pd\n",
    "from datetime import datetime\n",
    "import numpy as np\n",
    "import altair as alt"
   ]
  },
  {
   "cell_type": "markdown",
   "metadata": {},
   "source": [
    "## Countries"
   ]
  },
  {
   "cell_type": "code",
   "execution_count": null,
   "metadata": {},
   "outputs": [],
   "source": [
    "! wget https://raw.githubusercontent.com/CSSEGISandData/COVID-19/master/csse_covid_19_data/csse_covid_19_time_series/time_series_19-covid-Confirmed.csv"
   ]
  },
  {
   "cell_type": "code",
   "execution_count": null,
   "metadata": {},
   "outputs": [],
   "source": [
    "by_country=pd.read_csv('time_series_19-covid-Confirmed.csv').groupby('Country/Region').sum()#.reset_index()"
   ]
  },
  {
   "cell_type": "code",
   "execution_count": null,
   "metadata": {},
   "outputs": [],
   "source": [
    "d = by_country[by_country.columns[2:]].T#.reset_index()\n",
    "deltas = (d-d.shift(1)).fillna(0)\n",
    "deltas.index= pd.to_datetime(deltas.index)\n",
    "deltas.index.name='date'\n",
    "deltas = deltas.T.reset_index()\n",
    "deltas.head()"
   ]
  },
  {
   "cell_type": "code",
   "execution_count": null,
   "metadata": {},
   "outputs": [],
   "source": [
    "canonical = deltas.melt(value_vars=deltas.columns[1:], id_vars=['Country/Region'])\n",
    "canonical.head()"
   ]
  },
  {
   "cell_type": "code",
   "execution_count": null,
   "metadata": {},
   "outputs": [],
   "source": [
    "sorted_ = canonical.groupby('Country/Region').sum().sort_values('value', ascending=False).index.values\n",
    "sorted_"
   ]
  },
  {
   "cell_type": "code",
   "execution_count": null,
   "metadata": {},
   "outputs": [],
   "source": [
    "totals_area = alt.Chart(canonical, height=50).transform_aggregate(\n",
    "    [alt.AggregatedFieldDef(op='sum',field='value', **{'as': 'area_total'})], groupby=['Country/Region']\n",
    ").mark_rect().encode(\n",
    "    alt.X('Country/Region:O', sort=list(sorted_)),\n",
    "    alt.Y('area_total:Q', title='date'),\n",
    "    color=alt.value('gray')\n",
    ")\n",
    "totals_area"
   ]
  },
  {
   "cell_type": "code",
   "execution_count": null,
   "metadata": {},
   "outputs": [],
   "source": [
    "canonical['value2'] = np.maximum(canonical.value.fillna(0), 0)+0.1\n",
    "canonical.columns = ['area', 'date', 'value', 'New cases']"
   ]
  },
  {
   "cell_type": "code",
   "execution_count": null,
   "metadata": {},
   "outputs": [],
   "source": [
    "rect2 = alt.Chart(canonical).mark_rect().encode(\n",
    "    alt.X('area:O', sort=list(sorted_)),\n",
    "    alt.Y('monthdate(date):O', title='date'), \n",
    "    alt.Color('New cases:Q', scale=alt.Scale(type='log', scheme='lightmulti')),\n",
    ")\n",
    "rect2"
   ]
  },
  {
   "cell_type": "code",
   "execution_count": null,
   "metadata": {},
   "outputs": [],
   "source": []
  },
  {
   "cell_type": "code",
   "execution_count": null,
   "metadata": {},
   "outputs": [],
   "source": []
  }
 ],
 "metadata": {
  "kernelspec": {
   "display_name": "Python 3",
   "language": "python",
   "name": "python3"
  },
  "language_info": {
   "codemirror_mode": {
    "name": "ipython",
    "version": 3
   },
   "file_extension": ".py",
   "mimetype": "text/x-python",
   "name": "python",
   "nbconvert_exporter": "python",
   "pygments_lexer": "ipython3",
   "version": "3.7.5"
  }
 },
 "nbformat": 4,
 "nbformat_minor": 4
}
