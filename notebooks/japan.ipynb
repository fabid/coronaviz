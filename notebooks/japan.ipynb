{
 "cells": [
  {
   "cell_type": "markdown",
   "metadata": {},
   "source": [
    "Get data"
   ]
  },
  {
   "cell_type": "code",
   "execution_count": null,
   "metadata": {},
   "outputs": [],
   "source": [
    "!wget https://toyokeizai.net/sp/visual/tko/covid19/csv/data.csv"
   ]
  },
  {
   "cell_type": "code",
   "execution_count": null,
   "metadata": {},
   "outputs": [],
   "source": [
    "import pandas as pd\n",
    "from datetime import datetime\n",
    "import altair as alt"
   ]
  },
  {
   "cell_type": "code",
   "execution_count": null,
   "metadata": {},
   "outputs": [],
   "source": [
    "data = pd.read_csv('data.csv', parse_dates=['確定日'])"
   ]
  },
  {
   "cell_type": "code",
   "execution_count": null,
   "metadata": {},
   "outputs": [],
   "source": [
    "# Remove 3 cases with 'under investigation' instead of date\n",
    "data = data[data['確定日']!='調査中']"
   ]
  },
  {
   "cell_type": "code",
   "execution_count": null,
   "metadata": {},
   "outputs": [],
   "source": [
    "# parse date\n",
    "data['date'] = data['確定日'].apply(lambda x: datetime.strptime(f'2020/{x}', '%Y/%m/%d'))"
   ]
  },
  {
   "cell_type": "code",
   "execution_count": null,
   "metadata": {},
   "outputs": [],
   "source": [
    "data.head()"
   ]
  },
  {
   "cell_type": "code",
   "execution_count": null,
   "metadata": {},
   "outputs": [],
   "source": [
    "# regions translations\n",
    "locations_jp = ['北海道', '愛知県', '東京都', '神奈川県', '千葉県', '和歌山県', '中国（武漢市）', '大阪府',\n",
    "       '熊本県', '福岡県', '石川県', '沖縄県', '高知県', '京都府', '調査中', '兵庫県', '中国（湖北省）',\n",
    "       '和歌山', '中国（湖南省）', '岐阜県', '埼玉県', '奈良県', '宮城県', '静岡県', '新潟県', '栃木県',\n",
    "       '滋賀県', '神奈川', '長野県', '三重県']\n",
    "locations = ['Hokkaido', 'Aichi', 'Tokyo', 'Kanagawa', 'Chiba', 'Wakayama', 'China (Wuhan)', 'Osaka',\n",
    "       'Kumamoto', 'Fukuoka', 'Ishikawa', 'Okinawa', 'Kochi', 'Kyoto', 'Under investigation', 'Hyogo', 'China (Hubei)',\n",
    "       'Wakayama', 'China (Hunan)', 'Gifu', 'Saitama', 'Nara', 'Miyagi', 'Shizuoka', 'Niigata', 'Tochigi',\n",
    "       'Shiga Prefecture', 'Kanagawa', 'Nagano Prefecture', 'Mie Prefecture']\n",
    "translations = dict(zip(locations_jp, locations))\n",
    "data['Place of residence'] = data['居住地'].apply(lambda x: translations[x])"
   ]
  },
  {
   "cell_type": "code",
   "execution_count": null,
   "metadata": {},
   "outputs": [],
   "source": [
    "# Sort the area per total number of case\n",
    "sorted_areas= data.groupby('Place of residence').count().date.sort_values(ascending=False).index.values\n",
    "sorted_areas"
   ]
  },
  {
   "cell_type": "markdown",
   "metadata": {},
   "source": [
    "Chart definitions"
   ]
  },
  {
   "cell_type": "code",
   "execution_count": null,
   "metadata": {},
   "outputs": [],
   "source": [
    "height=600"
   ]
  },
  {
   "cell_type": "code",
   "execution_count": null,
   "metadata": {},
   "outputs": [],
   "source": [
    "Y_axis = alt.Axis(labels=True, domain=False, ticks=False, grid=False)\n",
    "X_axis = alt.Axis(labels=True, domain=False, ticks=False, grid=False, orient='top')\n",
    "totals_day = alt.Chart(data, width=50, height=height).transform_aggregate(\n",
    "    [alt.AggregatedFieldDef(op='count', **{'as': 'date_total'})], groupby=['date']\n",
    ").mark_rect().encode(\n",
    "    alt.Y('monthdate(date)', axis=alt.Axis(labels=False, domain=False, ticks=False, grid=False), sort='descending', title=None),\n",
    "    alt.X('date_total:Q', title='total'), \n",
    "    color=alt.value('gray')\n",
    ")"
   ]
  },
  {
   "cell_type": "code",
   "execution_count": null,
   "metadata": {},
   "outputs": [],
   "source": [
    "rect = alt.Chart(data, height=height).mark_rect().encode(\n",
    "    alt.X('Place of residence:O', sort=list(sorted_areas), axis=X_axis),\n",
    "    alt.Y('monthdate(date)', title='date', axis=Y_axis, sort='descending'), \n",
    "    alt.Color('count()', scale=alt.Scale(scheme='lightmulti'), title='New cases'),\n",
    ")"
   ]
  },
  {
   "cell_type": "code",
   "execution_count": null,
   "metadata": {},
   "outputs": [],
   "source": [
    "totals_area = alt.Chart(data, height=50).transform_aggregate(\n",
    "    [alt.AggregatedFieldDef(op='count', **{'as': 'area_total'})], groupby=['Place of residence']\n",
    ").mark_rect().encode(\n",
    "    alt.X('Place of residence:O', sort=list(sorted_areas), axis=alt.Axis(title=None, labels=False, domain=False, ticks=False, grid=False)),\n",
    "    alt.Y('area_total:Q', title='total'),\n",
    "    color=alt.value('gray')\n",
    ")"
   ]
  },
  {
   "cell_type": "code",
   "execution_count": null,
   "metadata": {},
   "outputs": [],
   "source": [
    "viz1 = totals_area & (rect | totals_day)\n",
    "viz1"
   ]
  },
  {
   "cell_type": "code",
   "execution_count": null,
   "metadata": {},
   "outputs": [],
   "source": []
  }
 ],
 "metadata": {
  "kernelspec": {
   "display_name": "Python 3",
   "language": "python",
   "name": "python3"
  },
  "language_info": {
   "codemirror_mode": {
    "name": "ipython",
    "version": 3
   },
   "file_extension": ".py",
   "mimetype": "text/x-python",
   "name": "python",
   "nbconvert_exporter": "python",
   "pygments_lexer": "ipython3",
   "version": "3.7.5"
  }
 },
 "nbformat": 4,
 "nbformat_minor": 4
}
