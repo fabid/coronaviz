{
 "cells": [
  {
   "cell_type": "code",
   "execution_count": null,
   "metadata": {},
   "outputs": [],
   "source": [
    "import math\n",
    "from datetime import datetime, timedelta\n",
    "\n",
    "import numpy as np\n",
    "import pandas as pd\n",
    "import networkx as nx\n",
    "import altair as alt\n",
    "from datetime import timedelta\n",
    "import matplotlib.pyplot as plt"
   ]
  },
  {
   "cell_type": "code",
   "execution_count": null,
   "metadata": {},
   "outputs": [],
   "source": [
    "data = pd.read_csv('data_2020-03-06.csv', parse_dates=['確定日'])\n",
    "# Remove 3 cases with 'under investigation' instead of date\n",
    "data = data[data['確定日']!='調査中']\n",
    "# parse date\n",
    "data['date'] = data['確定日'].apply(lambda x: datetime.strptime(f'2020/{x}', '%Y/%m/%d'))"
   ]
  },
  {
   "cell_type": "code",
   "execution_count": null,
   "metadata": {},
   "outputs": [],
   "source": [
    "# regions translations\n",
    "locations_jp = ['北海道', '愛知県', '東京都', '神奈川県', '千葉県', '和歌山県', '中国（武漢市）', '大阪府',\n",
    "       '熊本県', '福岡県', '石川県', '沖縄県', '高知県', '京都府', '調査中', '兵庫県', '中国（湖北省）',\n",
    "       '和歌山', '中国（湖南省）', '岐阜県', '埼玉県', '奈良県', '宮城県', '静岡県', '新潟県', '栃木県',\n",
    "       '滋賀県', '神奈川', '長野県', '三重県', '大阪市', '大分県', '山口県', '愛媛県', '宮崎県']\n",
    "locations = ['Hokkaido', 'Aichi', 'Tokyo', 'Kanagawa', 'Chiba', 'Wakayama', 'China (Wuhan)', 'Osaka',\n",
    "       'Kumamoto', 'Fukuoka', 'Ishikawa', 'Okinawa', 'Kochi', 'Kyoto', 'Under investigation', 'Hyogo', 'China (Hubei)',\n",
    "       'Wakayama', 'China (Hunan)', 'Gifu', 'Saitama', 'Nara', 'Miyagi', 'Shizuoka', 'Niigata', 'Tochigi',\n",
    "       'Shiga Prefecture', 'Kanagawa', 'Nagano Prefecture', 'Mie Prefecture', 'Osaka', 'Oita Prefecture', 'Yamaguchi', 'Ehime', 'Miyazaki']\n",
    "translations = dict(zip(locations_jp, locations))\n",
    "data['Place of residence'] = data['居住地'].apply(lambda x: translations[x])"
   ]
  },
  {
   "cell_type": "code",
   "execution_count": null,
   "metadata": {},
   "outputs": [],
   "source": [
    "data['contacts'] = data['周囲の患者の発生※'].map(lambda x: x.replace('なし', '').replace('調査中', '').replace('No.', '').split('、'))\n",
    "data.head()"
   ]
  },
  {
   "cell_type": "markdown",
   "metadata": {},
   "source": [
    "## Build Graph"
   ]
  },
  {
   "cell_type": "code",
   "execution_count": null,
   "metadata": {},
   "outputs": [],
   "source": [
    "G = nx.Graph()\n",
    "for row in data.iterrows():\n",
    "    person = int(row[1]['旧No.'])\n",
    "    contacts = row[1]['contacts']\n",
    "    date = row[1]['date'].date().isoformat()\n",
    "    G.add_node(person)\n",
    "    G.add_node(date)\n",
    "    loc = row[1]['Place of residence']\n",
    "    G.add_node(loc)\n",
    "    #print(loc)\n",
    "    G.add_edge(person, loc, weight=0.1)\n",
    "    G.add_edge(person, date, weight=1)\n",
    "    for c in contacts:\n",
    "        if c != '':\n",
    "            try:\n",
    "                G.add_edge(person, int(c), weight=0.4)\n",
    "            except:\n",
    "                continue\n",
    "            "
   ]
  },
  {
   "cell_type": "code",
   "execution_count": null,
   "metadata": {},
   "outputs": [],
   "source": [
    "dates = data.sort_values('date').date.dt.date.unique()\n",
    "Gdates = nx.Graph()\n",
    "dates_pos = {}\n",
    "for date in dates:\n",
    "    dt = (date- datetime.now().date()).days/10.\n",
    "    #print()\n",
    "    dates_pos[date.isoformat()] = (dt, 0)\n",
    "for i, date in enumerate(dates[1:]):\n",
    "    #print(date, dates[i])\n",
    "    G.add_edge(date.isoformat(), dates[i].isoformat())\n",
    "    Gdates.add_edge(date.isoformat(), dates[i].isoformat())\n",
    "fixed=dates_pos.keys()"
   ]
  },
  {
   "cell_type": "markdown",
   "metadata": {},
   "source": [
    "## Generate layout.\n",
    "We are using fixed nodes for dates, in order to generate a layout that maps to time"
   ]
  },
  {
   "cell_type": "code",
   "execution_count": null,
   "metadata": {},
   "outputs": [],
   "source": [
    "layout = nx.spring_layout(G, pos=dates_pos, fixed=fixed, k=1/math.sqrt(len(G)*0.9), iterations=100)\n",
    "X = []\n",
    "Y = []\n",
    "for key in layout:\n",
    "    X.append(layout[key][0])\n",
    "    Y.append(layout[key][1])"
   ]
  },
  {
   "cell_type": "code",
   "execution_count": null,
   "metadata": {},
   "outputs": [],
   "source": [
    "layout_df = pd.DataFrame(index=layout.keys(), data={'X': X, 'Y': Y})"
   ]
  },
  {
   "cell_type": "code",
   "execution_count": null,
   "metadata": {},
   "outputs": [],
   "source": [
    "data_l = data.join(layout_df, on='旧No.')\n",
    "data_l['Place of residence'] = data_l['Place of residence'].apply(lambda x: x.split(' (')[0])\n",
    "data_l.head()"
   ]
  },
  {
   "cell_type": "code",
   "execution_count": null,
   "metadata": {},
   "outputs": [],
   "source": [
    "data_l['location_id'] = data_l['Place of residence'].astype('category').cat.rename_categories(range(data_l['Place of residence'].nunique()))"
   ]
  },
  {
   "cell_type": "code",
   "execution_count": null,
   "metadata": {},
   "outputs": [],
   "source": [
    "cm = plt.cm.tab20\n",
    "colors = cm(data_l.location_id)"
   ]
  },
  {
   "cell_type": "code",
   "execution_count": null,
   "metadata": {},
   "outputs": [],
   "source": [
    "data_l['Place of residence'].unique()"
   ]
  },
  {
   "cell_type": "markdown",
   "metadata": {},
   "source": [
    "color_scale = alt.Scale(domain=[ 'China','Under investigation', 'Kanagawa','Chiba', 'Tokyo','Saitama', 'Nara', 'Osaka', 'Mie Prefecture', 'Kyoto',\n",
    "        'Wakayama', 'Okinawa', 'Aichi', 'Hokkaido',\n",
    "       , 'Fukuoka', 'Ishikawa',\n",
    "       'Kumamoto', 'Tochigi', 'Nagano Prefecture', 'Gifu',\n",
    "       'Shiga Prefecture', 'Shizuoka', 'Kochi', 'Niigata', 'Miyagi',\n",
    "       'Hyogo'],\n",
    "                       range=[\n",
    "                           \n",
    "                       ])"
   ]
  },
  {
   "cell_type": "code",
   "execution_count": null,
   "metadata": {},
   "outputs": [],
   "source": [
    "color_scale=alt.Scale(domain=[\n",
    "    'Hokkaido',\n",
    "    'Miyagi',\n",
    "    'Tochigi','Saitama','Chiba', 'Tokyo', 'Kanagawa',\n",
    "    'Niigata', 'Nagano Prefecture','Shizuoka',\n",
    "    'Ishikawa', 'Gifu','Aichi', \n",
    "    'Shiga Prefecture', 'Mie Prefecture', 'Nara','Wakayama',\n",
    "    'Kyoto','Osaka','Hyogo',\n",
    "    'Kochi',\n",
    "    'Fukuoka','Oita Prefecture', 'Kumamoto',\n",
    "    'Okinawa','China','Under investigation' ], scheme='rainbow')"
   ]
  },
  {
   "cell_type": "code",
   "execution_count": null,
   "metadata": {},
   "outputs": [],
   "source": [
    "edges_df = pd.DataFrame(G.edges).reset_index()\n",
    "edges_df.columns=['edge_id', 'from', 'to']\n",
    "edges_df.tail()"
   ]
  },
  {
   "cell_type": "code",
   "execution_count": null,
   "metadata": {},
   "outputs": [],
   "source": [
    "from_edges= edges_df.join(layout_df, on='from').join(data_l.set_index('旧No.')['date'], on='from')\n",
    "to_edges = edges_df.join(layout_df, on='to').join(data_l.set_index('旧No.')['date'], on='to')\n",
    "from_edges.head(2)"
   ]
  },
  {
   "cell_type": "code",
   "execution_count": null,
   "metadata": {},
   "outputs": [],
   "source": [
    "all_edges = pd.concat([from_edges, to_edges], axis=0)\n",
    "all_edges.head()"
   ]
  },
  {
   "cell_type": "code",
   "execution_count": null,
   "metadata": {},
   "outputs": [],
   "source": [
    "valid_edges = all_edges[all_edges['from'].isin(data['旧No.']) & all_edges['to'].isin(data['旧No.'])].copy().sort_values('edge_id')\n",
    "valid_edges.sort_values('edge_id').head()"
   ]
  },
  {
   "cell_type": "code",
   "execution_count": null,
   "metadata": {},
   "outputs": [],
   "source": [
    "X_axis=alt.Axis(labels=True, domain=False, ticks=False, grid=False, title='date')\n",
    "Y_axis =alt.Axis(labels=False, domain=False, ticks=False, grid=False, title=None)\n",
    "nodes_chart = alt.Chart(data_l).mark_point(size=100).encode(\n",
    "    x=alt.X('monthdate(date)', axis=X_axis),\n",
    "    y=alt.Y('Y:Q',axis=Y_axis),\n",
    "    shape=alt.Shape('Place of residence', scale=alt.Scale(domain=color_scale.domain)),\n",
    "    color=alt.Color('Place of residence', scale=alt.Scale(domain=color_scale.domain, scheme='plasma')),\n",
    "    tooltip=['Place of residence', 'date', '年代', '性別']\n",
    ").interactive()\n",
    "#nodes_chart.resolve_scale(color='independent', shape='independent')"
   ]
  },
  {
   "cell_type": "code",
   "execution_count": null,
   "metadata": {},
   "outputs": [],
   "source": [
    "edges_chart = alt.Chart(valid_edges).mark_line(color='gray').encode(\n",
    "    x=alt.X('monthdate(date)',axis=X_axis),\n",
    "    y=alt.Y('Y:Q',axis=Y_axis),\n",
    "    detail='edge_id',\n",
    ")\n",
    "#edges_chart"
   ]
  },
  {
   "cell_type": "code",
   "execution_count": null,
   "metadata": {},
   "outputs": [],
   "source": [
    "viz = alt.layer(edges_chart, nodes_chart, height=500, width=800)#.interactive()\n",
    "viz.title='Japan coronavirus cases and their connections, by detection date and prefecture.'\n",
    "viz"
   ]
  },
  {
   "cell_type": "code",
   "execution_count": null,
   "metadata": {},
   "outputs": [],
   "source": [
    "viz.save('japan_coronavirus_network.html')"
   ]
  },
  {
   "cell_type": "code",
   "execution_count": null,
   "metadata": {},
   "outputs": [],
   "source": []
  }
 ],
 "metadata": {
  "kernelspec": {
   "display_name": "Python 3",
   "language": "python",
   "name": "python3"
  },
  "language_info": {
   "codemirror_mode": {
    "name": "ipython",
    "version": 3
   },
   "file_extension": ".py",
   "mimetype": "text/x-python",
   "name": "python",
   "nbconvert_exporter": "python",
   "pygments_lexer": "ipython3",
   "version": "3.7.5"
  }
 },
 "nbformat": 4,
 "nbformat_minor": 4
}
